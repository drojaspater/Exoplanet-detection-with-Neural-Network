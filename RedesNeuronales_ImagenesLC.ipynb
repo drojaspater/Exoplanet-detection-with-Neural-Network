{
 "cells": [
  {
   "cell_type": "code",
   "execution_count": 1,
   "id": "c988b750",
   "metadata": {},
   "outputs": [],
   "source": [
    "#Librerias básicas\n",
    "#================================================================================\n",
    "import pandas as pd\n",
    "import matplotlib.pyplot as plt\n",
    "import numpy as np\n",
    "import os\n",
    "import duckdb\n",
    "import glob\n",
    "\n",
    "# Configuración para machine learning\n",
    "# ================================================================================\n",
    "import tensorflow as tf\n",
    "import tensorflow.keras as keras\n",
    "from tensorflow.keras import regularizers\n",
    "from pandas.core.frame import DataFrame\n",
    "from sklearn.metrics import mean_squared_error\n",
    "from sklearn.model_selection import cross_val_score\n",
    "from sklearn.model_selection import train_test_split\n",
    "from sklearn.model_selection import RepeatedKFold\n",
    "from sklearn.model_selection import GridSearchCV\n",
    "from sklearn.model_selection import ParameterGrid\n",
    "from sklearn.inspection import permutation_importance\n",
    "from sklearn.model_selection import train_test_split\n",
    "import multiprocessing\n",
    "\n",
    "import cv2\n",
    "\n",
    "# Activar SQL en Python\n",
    "# ================================================================================\n",
    "con = duckdb.connect(database=':memory:')"
   ]
  },
  {
   "cell_type": "code",
   "execution_count": 2,
   "id": "4ef6b8f2",
   "metadata": {},
   "outputs": [],
   "source": [
    "#Url Ari \n",
    "url_lcc    = \"C:/Users/ASUS/OneDrive/Documentos/2023-2/Inteligencia/Proyecto/Exoplanet-detection-with-Neural-Network/Curvas_de_luz_cor/\"\n",
    "url_lc_img = \"C:/Users/ASUS/OneDrive/Documentos/2023-2/Inteligencia/Proyecto/Curvas_de_luz_img/\"\n",
    "url_img = \"C:/Users/ASUS/OneDrive/Documentos/2023-2/Inteligencia/Proyecto/\"\n",
    "url        = \"C:/Users/ASUS/OneDrive/Documentos/2023-2/Inteligencia/Proyecto/Exoplanet-detection-with-Neural-Network/\""
   ]
  },
  {
   "cell_type": "code",
   "execution_count": 3,
   "id": "7af3ea88",
   "metadata": {},
   "outputs": [],
   "source": [
    "#Urls Pater\n",
    "url_lcc    = \"/home/pater/Desktop/CosasPater/UNAL/2023-02NovenoSemestre/Exoplanet-detection-with-Neural-Network/Curvas_de_luz_cor/\"\n",
    "url_lc_img = \"/home/pater/Desktop/CosasPater/UNAL/2023-02NovenoSemestre/ClassificationExoplanets/Curvas_de_luz_img/\"\n",
    "url_img = \"/home/pater/Desktop/CosasPater/UNAL/2023-02NovenoSemestre/ClassificationExoplanets/\"\n",
    "url        = \"/home/pater/Desktop/CosasPater/UNAL/2023-02NovenoSemestre/Exoplanet-detection-with-Neural-Network/\""
   ]
  },
  {
   "cell_type": "markdown",
   "id": "edf752ec",
   "metadata": {},
   "source": [
    "## Creación de las imagenes"
   ]
  },
  {
   "cell_type": "code",
   "execution_count": 3,
   "id": "bb37bf7a",
   "metadata": {},
   "outputs": [
    {
     "data": {
      "text/html": [
       "<div>\n",
       "<style scoped>\n",
       "    .dataframe tbody tr th:only-of-type {\n",
       "        vertical-align: middle;\n",
       "    }\n",
       "\n",
       "    .dataframe tbody tr th {\n",
       "        vertical-align: top;\n",
       "    }\n",
       "\n",
       "    .dataframe thead th {\n",
       "        text-align: right;\n",
       "    }\n",
       "</style>\n",
       "<table border=\"1\" class=\"dataframe\">\n",
       "  <thead>\n",
       "    <tr style=\"text-align: right;\">\n",
       "      <th></th>\n",
       "      <th>Kepler_ID</th>\n",
       "      <th>Metalicidad</th>\n",
       "      <th>Clasificacion</th>\n",
       "      <th>incert_clas</th>\n",
       "    </tr>\n",
       "  </thead>\n",
       "  <tbody>\n",
       "    <tr>\n",
       "      <th>0</th>\n",
       "      <td>10797460</td>\n",
       "      <td>0.136</td>\n",
       "      <td>CANDIDATE</td>\n",
       "      <td>1.000</td>\n",
       "    </tr>\n",
       "    <tr>\n",
       "      <th>1</th>\n",
       "      <td>10811496</td>\n",
       "      <td>-0.127</td>\n",
       "      <td>FALSE POSITIVE</td>\n",
       "      <td>0.000</td>\n",
       "    </tr>\n",
       "    <tr>\n",
       "      <th>2</th>\n",
       "      <td>10848459</td>\n",
       "      <td>-0.522</td>\n",
       "      <td>FALSE POSITIVE</td>\n",
       "      <td>0.000</td>\n",
       "    </tr>\n",
       "    <tr>\n",
       "      <th>3</th>\n",
       "      <td>10854555</td>\n",
       "      <td>0.081</td>\n",
       "      <td>CANDIDATE</td>\n",
       "      <td>1.000</td>\n",
       "    </tr>\n",
       "    <tr>\n",
       "      <th>4</th>\n",
       "      <td>10872983</td>\n",
       "      <td>-0.067</td>\n",
       "      <td>CANDIDATE</td>\n",
       "      <td>0.992</td>\n",
       "    </tr>\n",
       "    <tr>\n",
       "      <th>...</th>\n",
       "      <td>...</td>\n",
       "      <td>...</td>\n",
       "      <td>...</td>\n",
       "      <td>...</td>\n",
       "    </tr>\n",
       "    <tr>\n",
       "      <th>7677</th>\n",
       "      <td>10128825</td>\n",
       "      <td>-0.046</td>\n",
       "      <td>CANDIDATE</td>\n",
       "      <td>0.497</td>\n",
       "    </tr>\n",
       "    <tr>\n",
       "      <th>7678</th>\n",
       "      <td>10147276</td>\n",
       "      <td>-0.038</td>\n",
       "      <td>FALSE POSITIVE</td>\n",
       "      <td>0.021</td>\n",
       "    </tr>\n",
       "    <tr>\n",
       "      <th>7679</th>\n",
       "      <td>10156110</td>\n",
       "      <td>0.082</td>\n",
       "      <td>FALSE POSITIVE</td>\n",
       "      <td>0.000</td>\n",
       "    </tr>\n",
       "    <tr>\n",
       "      <th>7680</th>\n",
       "      <td>8460634</td>\n",
       "      <td>-0.556</td>\n",
       "      <td>FALSE POSITIVE</td>\n",
       "      <td>0.000</td>\n",
       "    </tr>\n",
       "    <tr>\n",
       "      <th>7681</th>\n",
       "      <td>8308347</td>\n",
       "      <td>-0.598</td>\n",
       "      <td>FALSE POSITIVE</td>\n",
       "      <td>0.000</td>\n",
       "    </tr>\n",
       "  </tbody>\n",
       "</table>\n",
       "<p>7682 rows × 4 columns</p>\n",
       "</div>"
      ],
      "text/plain": [
       "      Kepler_ID  Metalicidad   Clasificacion  incert_clas\n",
       "0      10797460        0.136       CANDIDATE        1.000\n",
       "1      10811496       -0.127  FALSE POSITIVE        0.000\n",
       "2      10848459       -0.522  FALSE POSITIVE        0.000\n",
       "3      10854555        0.081       CANDIDATE        1.000\n",
       "4      10872983       -0.067       CANDIDATE        0.992\n",
       "...         ...          ...             ...          ...\n",
       "7677   10128825       -0.046       CANDIDATE        0.497\n",
       "7678   10147276       -0.038  FALSE POSITIVE        0.021\n",
       "7679   10156110        0.082  FALSE POSITIVE        0.000\n",
       "7680    8460634       -0.556  FALSE POSITIVE        0.000\n",
       "7681    8308347       -0.598  FALSE POSITIVE        0.000\n",
       "\n",
       "[7682 rows x 4 columns]"
      ]
     },
     "execution_count": 3,
     "metadata": {},
     "output_type": "execute_result"
    }
   ],
   "source": [
    "Carac_Stars = pd.read_csv(url+\"Carac_Stars.csv\")\n",
    "Carac_Stars"
   ]
  },
  {
   "cell_type": "code",
   "execution_count": 4,
   "id": "a6e0fb10",
   "metadata": {},
   "outputs": [],
   "source": [
    "arch = os.listdir(url_lcc) \n",
    "arch.sort()\n",
    "Stars_list = [star[3:-4] for star in arch]\n",
    "\n",
    "s_flux  = []\n",
    "s_err   = []\n",
    "Id_real = []\n",
    "for Str in arch:\n",
    "    serie = pd.read_csv(url_lcc+Str).set_index('time')\n",
    "    s_flux.append(np.array(serie['flux']))\n",
    "    s_err.append(np.array(serie['flux_err']))\n",
    "    Id_real.append(Str[3:-4])\n"
   ]
  },
  {
   "cell_type": "code",
   "execution_count": 5,
   "id": "5a90c7f4",
   "metadata": {},
   "outputs": [
    {
     "data": {
      "text/html": [
       "<div>\n",
       "<style scoped>\n",
       "    .dataframe tbody tr th:only-of-type {\n",
       "        vertical-align: middle;\n",
       "    }\n",
       "\n",
       "    .dataframe tbody tr th {\n",
       "        vertical-align: top;\n",
       "    }\n",
       "\n",
       "    .dataframe thead th {\n",
       "        text-align: right;\n",
       "    }\n",
       "</style>\n",
       "<table border=\"1\" class=\"dataframe\">\n",
       "  <thead>\n",
       "    <tr style=\"text-align: right;\">\n",
       "      <th></th>\n",
       "      <th>ID</th>\n",
       "    </tr>\n",
       "  </thead>\n",
       "  <tbody>\n",
       "    <tr>\n",
       "      <th>0</th>\n",
       "      <td>10000162</td>\n",
       "    </tr>\n",
       "    <tr>\n",
       "      <th>1</th>\n",
       "      <td>10000941</td>\n",
       "    </tr>\n",
       "    <tr>\n",
       "      <th>2</th>\n",
       "      <td>10001368</td>\n",
       "    </tr>\n",
       "    <tr>\n",
       "      <th>3</th>\n",
       "      <td>10002049</td>\n",
       "    </tr>\n",
       "    <tr>\n",
       "      <th>4</th>\n",
       "      <td>10002266</td>\n",
       "    </tr>\n",
       "    <tr>\n",
       "      <th>...</th>\n",
       "      <td>...</td>\n",
       "    </tr>\n",
       "    <tr>\n",
       "      <th>7677</th>\n",
       "      <td>9993683</td>\n",
       "    </tr>\n",
       "    <tr>\n",
       "      <th>7678</th>\n",
       "      <td>9994381</td>\n",
       "    </tr>\n",
       "    <tr>\n",
       "      <th>7679</th>\n",
       "      <td>9995402</td>\n",
       "    </tr>\n",
       "    <tr>\n",
       "      <th>7680</th>\n",
       "      <td>9995771</td>\n",
       "    </tr>\n",
       "    <tr>\n",
       "      <th>7681</th>\n",
       "      <td>9996632</td>\n",
       "    </tr>\n",
       "  </tbody>\n",
       "</table>\n",
       "<p>7682 rows × 1 columns</p>\n",
       "</div>"
      ],
      "text/plain": [
       "            ID\n",
       "0     10000162\n",
       "1     10000941\n",
       "2     10001368\n",
       "3     10002049\n",
       "4     10002266\n",
       "...        ...\n",
       "7677   9993683\n",
       "7678   9994381\n",
       "7679   9995402\n",
       "7680   9995771\n",
       "7681   9996632\n",
       "\n",
       "[7682 rows x 1 columns]"
      ]
     },
     "execution_count": 5,
     "metadata": {},
     "output_type": "execute_result"
    }
   ],
   "source": [
    "Stars = pd.DataFrame()\n",
    "Stars[\"ID\"] = Id_real\n",
    "Stars"
   ]
  },
  {
   "cell_type": "code",
   "execution_count": 6,
   "id": "a805852f",
   "metadata": {},
   "outputs": [
    {
     "data": {
      "text/html": [
       "<div>\n",
       "<style scoped>\n",
       "    .dataframe tbody tr th:only-of-type {\n",
       "        vertical-align: middle;\n",
       "    }\n",
       "\n",
       "    .dataframe tbody tr th {\n",
       "        vertical-align: top;\n",
       "    }\n",
       "\n",
       "    .dataframe thead th {\n",
       "        text-align: right;\n",
       "    }\n",
       "</style>\n",
       "<table border=\"1\" class=\"dataframe\">\n",
       "  <thead>\n",
       "    <tr style=\"text-align: right;\">\n",
       "      <th></th>\n",
       "      <th>ID</th>\n",
       "      <th>ClasBin</th>\n",
       "    </tr>\n",
       "  </thead>\n",
       "  <tbody>\n",
       "    <tr>\n",
       "      <th>0</th>\n",
       "      <td>10000162</td>\n",
       "      <td>1</td>\n",
       "    </tr>\n",
       "    <tr>\n",
       "      <th>1</th>\n",
       "      <td>10000941</td>\n",
       "      <td>1</td>\n",
       "    </tr>\n",
       "    <tr>\n",
       "      <th>2</th>\n",
       "      <td>10001368</td>\n",
       "      <td>1</td>\n",
       "    </tr>\n",
       "    <tr>\n",
       "      <th>3</th>\n",
       "      <td>10002049</td>\n",
       "      <td>1</td>\n",
       "    </tr>\n",
       "    <tr>\n",
       "      <th>4</th>\n",
       "      <td>10002266</td>\n",
       "      <td>0</td>\n",
       "    </tr>\n",
       "    <tr>\n",
       "      <th>...</th>\n",
       "      <td>...</td>\n",
       "      <td>...</td>\n",
       "    </tr>\n",
       "    <tr>\n",
       "      <th>7677</th>\n",
       "      <td>9993683</td>\n",
       "      <td>1</td>\n",
       "    </tr>\n",
       "    <tr>\n",
       "      <th>7678</th>\n",
       "      <td>9994381</td>\n",
       "      <td>1</td>\n",
       "    </tr>\n",
       "    <tr>\n",
       "      <th>7679</th>\n",
       "      <td>9995402</td>\n",
       "      <td>1</td>\n",
       "    </tr>\n",
       "    <tr>\n",
       "      <th>7680</th>\n",
       "      <td>9995771</td>\n",
       "      <td>1</td>\n",
       "    </tr>\n",
       "    <tr>\n",
       "      <th>7681</th>\n",
       "      <td>9996632</td>\n",
       "      <td>0</td>\n",
       "    </tr>\n",
       "  </tbody>\n",
       "</table>\n",
       "<p>7682 rows × 2 columns</p>\n",
       "</div>"
      ],
      "text/plain": [
       "            ID  ClasBin\n",
       "0     10000162        1\n",
       "1     10000941        1\n",
       "2     10001368        1\n",
       "3     10002049        1\n",
       "4     10002266        0\n",
       "...        ...      ...\n",
       "7677   9993683        1\n",
       "7678   9994381        1\n",
       "7679   9995402        1\n",
       "7680   9995771        1\n",
       "7681   9996632        0\n",
       "\n",
       "[7682 rows x 2 columns]"
      ]
     },
     "execution_count": 6,
     "metadata": {},
     "output_type": "execute_result"
    }
   ],
   "source": [
    "Clas_Stars = con.execute(\"\"\"select S.ID, case when C.Clasificacion == 'CANDIDATE' then 1 \n",
    "                                              else 0             \n",
    "                                         end as ClasBin\n",
    "                            from Carac_Stars C inner join Stars S on (S.ID = C.Kepler_ID)\n",
    "                            order by S.ID\"\"\").df()\n",
    "Clas_Stars"
   ]
  },
  {
   "cell_type": "code",
   "execution_count": 7,
   "id": "28ca3f8d",
   "metadata": {},
   "outputs": [],
   "source": [
    "#Obtención de las imagenes ya existentes en la carpeta\n",
    "contenido = os.listdir(url_lc_img)\n",
    "L_Str = []\n",
    "for Str in contenido:\n",
    "    Str = Str[4:-4]\n",
    "    L_Str.append(Str)"
   ]
  },
  {
   "cell_type": "code",
   "execution_count": 8,
   "id": "c62ea4ed",
   "metadata": {},
   "outputs": [],
   "source": [
    "#Se descargan las curvas de luz no existentes\n",
    "KEPID = list(Stars['ID'])\n",
    "i = 0\n",
    "for name in KEPID:\n",
    "    if name in L_Str:\n",
    "        i += 1\n",
    "        continue\n",
    "    else:\n",
    "        j = KEPID.index(name)\n",
    "        name = int(name)\n",
    "        plt.figure(figsize=(8,4))\n",
    "        plt.plot(s_flux[j],color=\"#000000\")\n",
    "        plt.axis('off')\n",
    "        plt.savefig(f\"{url_lc_img}Img_{name}\", dpi=72, bbox_inches='tight')\n",
    "        plt.close()\n",
    "        continue"
   ]
  },
  {
   "cell_type": "code",
   "execution_count": 9,
   "id": "5ce007b7",
   "metadata": {},
   "outputs": [
    {
     "data": {
      "image/png": "[encoded data removed]",
      "text/plain": [
       "<Figure size 800x400 with 1 Axes>"
      ]
     },
     "metadata": {},
     "output_type": "display_data"
    }
   ],
   "source": [
    "j = 300\n",
    "name = \"Prueba\"\n",
    "plt.figure(figsize=(8,4))\n",
    "plt.plot(s_flux[j],color=\"#000000\")\n",
    "plt.axis('off')\n",
    "plt.savefig(f\"{url_lc_img}Img_{name}\", dpi=72, bbox_inches='tight')"
   ]
  },
  {
   "cell_type": "markdown",
   "id": "39c8c36f",
   "metadata": {},
   "source": [
    "## División conjuntos train, validation, test"
   ]
  },
  {
   "cell_type": "code",
   "execution_count": 7,
   "id": "d79aa86c",
   "metadata": {
    "scrolled": false
   },
   "outputs": [],
   "source": [
    "contenido = os.listdir(url_lc_img)\n",
    "Img_LC = []\n",
    "i = 0\n",
    "for img in contenido:\n",
    "    i += 1\n",
    "    #Se obtienen las imagenes normalizadas en escala de grises\n",
    "    Img = cv2.imread(url_lc_img+img,cv2.IMREAD_GRAYSCALE).astype(np.float32)/255\n",
    "    Img_LC.append(Img)"
   ]
  },
  {
   "cell_type": "code",
   "execution_count": 8,
   "id": "959efe88",
   "metadata": {},
   "outputs": [],
   "source": [
    "# ordenar las imágenes y sus respectivos labels\n",
    "list_img = os.listdir(url_lc_img)\n",
    "for i in range(len(list_img)):\n",
    "    Str = list_img[i][4:-4]\n",
    "    list_img[i] = Str\n",
    "\n",
    "# obtención de labels correspondientes a cada imagen\n",
    "Clas_Stars['ID'] = pd.Categorical(Clas_Stars['ID'], categories=list_img, ordered=True)\n",
    "Labels = np.array(Clas_Stars.sort_values('ID')['ClasBin'])"
   ]
  },
  {
   "cell_type": "code",
   "execution_count": 9,
   "id": "ac3ae859",
   "metadata": {},
   "outputs": [],
   "source": [
    "# División entrenamiento, validación y prueba\n",
    "Img_train, Img_test, Labs_train, Labs_test = train_test_split(\n",
    "    Img_LC, Labels, test_size=0.3, random_state=13)\n",
    "\n",
    "Img_val, Img_test, Labs_val, Labs_test = train_test_split(\n",
    "    Img_test, Labs_test, test_size=0.33333333333333333, random_state=13)"
   ]
  },
  {
   "cell_type": "code",
   "execution_count": 10,
   "id": "8fb5dad1",
   "metadata": {},
   "outputs": [
    {
     "name": "stdout",
     "output_type": "stream",
     "text": [
      "Estrellas con exoplanetas en train:  2274\n",
      "Estrellas sin exoplanetas en train:  3103\n",
      "Estrellas con exoplanetas en val:  649\n",
      "Estrellas sin exoplanetas en val:  887\n",
      "Estrellas con exoplanetas en test:  323\n",
      "Estrellas sin exoplanetas en test:  446\n"
     ]
    }
   ],
   "source": [
    "print(\"Estrellas con exoplanetas en train: \",len(Labs_train[Labs_train==1]))\n",
    "print(\"Estrellas sin exoplanetas en train: \",len(Labs_train[Labs_train==0]))\n",
    "print(\"Estrellas con exoplanetas en val: \",len(Labs_val[Labs_val==1]))\n",
    "print(\"Estrellas sin exoplanetas en val: \",len(Labs_val[Labs_val==0]))\n",
    "print(\"Estrellas con exoplanetas en test: \",len(Labs_test[Labs_test==1]))\n",
    "print(\"Estrellas sin exoplanetas en test: \",len(Labs_test[Labs_test==0]))"
   ]
  },
  {
   "cell_type": "code",
   "execution_count": 36,
   "id": "55f621e8",
   "metadata": {},
   "outputs": [],
   "source": [
    "for i in range(len(Img_train)):\n",
    "    if Labs_train[i]==1:\n",
    "        plt.figure(figsize=(8,4))\n",
    "        plt.imshow(Img_train[i])\n",
    "        plt.axis('off')\n",
    "        plt.savefig(f\"{url_img}Train_img/1/{i}\", dpi=72, bbox_inches='tight')\n",
    "        plt.close()\n",
    "    elif Labs_train[i]==0:\n",
    "        plt.figure(figsize=(8,4))\n",
    "        plt.imshow(Img_train[i])\n",
    "        plt.axis('off')\n",
    "        plt.savefig(f\"{url_img}Train_img/0/{i}\", dpi=72, bbox_inches='tight')\n",
    "        plt.close()\n",
    "    else:\n",
    "        continue"
   ]
  },
  {
   "cell_type": "code",
   "execution_count": 37,
   "id": "7593dcb7",
   "metadata": {},
   "outputs": [],
   "source": [
    "for i in range(len(Img_val)):\n",
    "    if Labs_val[i]==1:\n",
    "        plt.figure(figsize=(8,4))\n",
    "        plt.imshow(Img_val[i])\n",
    "        plt.axis('off')\n",
    "        plt.savefig(f\"{url_img}Val_img/1/{i}\", dpi=72, bbox_inches='tight')\n",
    "        plt.close()\n",
    "    elif Labs_val[i]==0:\n",
    "        plt.figure(figsize=(8,4))\n",
    "        plt.imshow(Img_val[i])\n",
    "        plt.axis('off')\n",
    "        plt.savefig(f\"{url_img}Val_img/0/{i}\", dpi=72, bbox_inches='tight')\n",
    "        plt.close()\n",
    "    else:\n",
    "        continue"
   ]
  },
  {
   "cell_type": "code",
   "execution_count": 38,
   "id": "bfbeee3f",
   "metadata": {},
   "outputs": [],
   "source": [
    "for i in range(len(Img_test)):\n",
    "    if Labs_test[i]==1:\n",
    "        plt.figure(figsize=(8,4))\n",
    "        plt.imshow(Img_test[i])\n",
    "        plt.axis('off')\n",
    "        plt.savefig(f\"{url_img}Test_img/1/{i}\", dpi=72, bbox_inches='tight')\n",
    "        plt.close()\n",
    "    elif Labs_test[i]==0:\n",
    "        plt.figure(figsize=(8,4))\n",
    "        plt.imshow(Img_test[i])\n",
    "        plt.axis('off')\n",
    "        plt.savefig(f\"{url_img}Test_img/0/{i}\", dpi=72, bbox_inches='tight')\n",
    "        plt.close()\n",
    "    else:\n",
    "        continue"
   ]
  },
  {
   "cell_type": "markdown",
   "id": "8c6045b6",
   "metadata": {},
   "source": [
    "## Modelo de redes convolucionales"
   ]
  },
  {
   "cell_type": "code",
   "execution_count": 47,
   "id": "cce7c441",
   "metadata": {},
   "outputs": [],
   "source": [
    "Train_img = []\n",
    "y_train = []\n",
    "Arch_Train_1 = os.listdir(url_img+\"Train_img/1/\")\n",
    "Arch_Train_0 = os.listdir(url_img+\"Train_img/0/\")\n",
    "\n",
    "for img in Arch_Train_1:\n",
    "    Img = cv2.imread(url_img+\"Train_img/1/\"+img,cv2.IMREAD_GRAYSCALE).astype(np.float32)/255\n",
    "    y_train.append(1)\n",
    "    Train_img.append(Img)\n",
    "    \n",
    "for img in Arch_Train_0:\n",
    "    Img = cv2.imread(url_img+\"Train_img/0/\"+img,cv2.IMREAD_GRAYSCALE).astype(np.float32)/255\n",
    "    y_train.append(0)\n",
    "    Train_img.append(Img)\n",
    "    \n",
    "Val_img = []\n",
    "y_val = []\n",
    "Arch_Val_1 = os.listdir(url_img+\"Val_img/1/\")\n",
    "Arch_Val_0 = os.listdir(url_img+\"Val_img/0/\")\n",
    "\n",
    "for img in Arch_Val_1:\n",
    "    Img = cv2.imread(url_img+\"Val_img/1/\"+img,cv2.IMREAD_GRAYSCALE).astype(np.float32)/255\n",
    "    y_val.append(1)\n",
    "    Val_img.append(Img)\n",
    "    \n",
    "for img in Arch_Val_0:\n",
    "    Img = cv2.imread(url_img+\"Val_img/0/\"+img,cv2.IMREAD_GRAYSCALE).astype(np.float32)/255\n",
    "    y_val.append(0)\n",
    "    Val_img.append(Img)\n",
    "    \n",
    "Test_img = []\n",
    "y_test = []\n",
    "Arch_Test_1 = os.listdir(url_img+\"Test_img/1/\")\n",
    "Arch_Test_0 = os.listdir(url_img+\"Test_img/0/\")\n",
    "\n",
    "for img in Arch_Test_1:\n",
    "    Img = cv2.imread(url_img+\"Test_img/1/\"+img,cv2.IMREAD_GRAYSCALE).astype(np.float32)/255\n",
    "    y_test.append(1)\n",
    "    Test_img.append(Img)\n",
    "    \n",
    "for img in Arch_Test_0:\n",
    "    Img = cv2.imread(url_img+\"Test_img/0/\"+img,cv2.IMREAD_GRAYSCALE).astype(np.float32)/255\n",
    "    y_test.append(0)\n",
    "    Test_img.append(Img)"
   ]
  },
  {
   "cell_type": "code",
   "execution_count": 48,
   "id": "b81f4fde",
   "metadata": {},
   "outputs": [],
   "source": [
    "Matriz_1 = np.ones((236,446))\n",
    "\n",
    "Train_img = Matriz_1 - np.array(Train_img)\n",
    "Val_img = Matriz_1 - np.array(Val_img)\n",
    "Test_img = Matriz_1 - np.array(Test_img)\n",
    "\n",
    "y_train = np.array(y_train)\n",
    "y_val = np.array(y_val)\n",
    "y_test = np.array(y_test)"
   ]
  },
  {
   "cell_type": "code",
   "execution_count": 49,
   "id": "8c147118",
   "metadata": {},
   "outputs": [],
   "source": [
    "Train_img = Train_img.reshape((len(Train_img),236,446,1))\n",
    "Val_img = Val_img.reshape((len(Val_img),236,446,1))\n",
    "Test_img = Test_img.reshape((len(Test_img),236,446,1))"
   ]
  },
  {
   "cell_type": "code",
   "execution_count": null,
   "id": "9efbe996",
   "metadata": {},
   "outputs": [],
   "source": [
    "Train_imgc =Train_img.copy()"
   ]
  },
  {
   "cell_type": "code",
   "execution_count": 54,
   "id": "2ca6b676",
   "metadata": {},
   "outputs": [
    {
     "ename": "MemoryError",
     "evalue": "Unable to allocate 8.43 GiB for an array with shape (5377, 236, 446, 2) and data type float64",
     "output_type": "error",
     "traceback": [
      "\u001b[1;31m---------------------------------------------------------------------------\u001b[0m",
      "\u001b[1;31mMemoryError\u001b[0m                               Traceback (most recent call last)",
      "Cell \u001b[1;32mIn[54], line 1\u001b[0m\n\u001b[1;32m----> 1\u001b[0m Train_imgc \u001b[38;5;241m=\u001b[39m np\u001b[38;5;241m.\u001b[39mconcatenate((Train_imgc, Train_imgc),axis \u001b[38;5;241m=\u001b[39m \u001b[38;5;241m3\u001b[39m)\u001b[38;5;241m.\u001b[39mastype(np\u001b[38;5;241m.\u001b[39mfloat32)\n",
      "\u001b[1;31mMemoryError\u001b[0m: Unable to allocate 8.43 GiB for an array with shape (5377, 236, 446, 2) and data type float64"
     ]
    }
   ],
   "source": [
    "Train_imgc = np.concatenate((Train_imgc, Train_imgc),axis = 3).astype(np.float32)"
   ]
  },
  {
   "cell_type": "code",
   "execution_count": 52,
   "id": "1d3c6764",
   "metadata": {},
   "outputs": [
    {
     "data": {
      "text/plain": [
       "(5377, 236, 446, 1)"
      ]
     },
     "execution_count": 52,
     "metadata": {},
     "output_type": "execute_result"
    }
   ],
   "source": [
    "Train_imgc.shape"
   ]
  },
  {
   "cell_type": "code",
   "execution_count": 43,
   "id": "406fc239",
   "metadata": {},
   "outputs": [
    {
     "data": {
      "image/png": "[encoded data removed]",
      "text/plain": [
       "<Figure size 640x480 with 1 Axes>"
      ]
     },
     "metadata": {},
     "output_type": "display_data"
    }
   ],
   "source": [
    "plt.imshow(Train_img[1])\n",
    "plt.show()"
   ]
  },
  {
   "cell_type": "code",
   "execution_count": 59,
   "id": "ce6ed44a",
   "metadata": {},
   "outputs": [],
   "source": [
    "model = tf.keras.models.Sequential([\n",
    "    tf.keras.layers.Conv2D(filters=64, kernel_size=(3,3), activation='relu', strides=1,padding=\"same\", input_shape=(236,446,1)),\n",
    "    tf.keras.layers.Conv2D(filters=64, kernel_size=(3,3), activation='relu',strides=1,padding=\"same\"),\n",
    "    tf.keras.layers.MaxPooling2D(pool_size=2,strides=2),\n",
    "    tf.keras.layers.Conv2D(filters=128, kernel_size=(3,3), activation='relu'),\n",
    "    tf.keras.layers.Conv2D(filters=128, kernel_size=(3,3), activation='relu'),\n",
    "    tf.keras.layers.MaxPooling2D(pool_size=2,strides=2),\n",
    "    tf.keras.layers.Conv2D(filters=256, kernel_size=(3,3), activation='relu'),\n",
    "    tf.keras.layers.Conv2D(filters=256, kernel_size=(3,3), activation='relu'),\n",
    "    tf.keras.layers.Conv2D(filters=256, kernel_size=(3,3), activation='relu'),\n",
    "    tf.keras.layers.MaxPooling2D(pool_size=2,strides=2),\n",
    "    tf.keras.layers.Conv2D(filters=512, kernel_size=(3,3), activation='relu'),\n",
    "    tf.keras.layers.Conv2D(filters=512, kernel_size=(3,3), activation='relu'),\n",
    "    tf.keras.layers.Conv2D(filters=512, kernel_size=(3,3), activation='relu'),\n",
    "    tf.keras.layers.MaxPooling2D(pool_size=2,strides=2),\n",
    "    tf.keras.layers.Conv2D(filters=512, kernel_size=(3,3), activation='relu'),\n",
    "    tf.keras.layers.Conv2D(filters=512, kernel_size=(3,3), activation='relu'),\n",
    "    tf.keras.layers.Conv2D(filters=512, kernel_size=(3,3), activation='relu'),\n",
    "    tf.keras.layers.MaxPooling2D(pool_size=2,strides=2),\n",
    "    tf.keras.layers.Flatten(),\n",
    "    tf.keras.layers.Dense(4096, activation='relu'),\n",
    "    tf.keras.layers.Dense(1000, activation='relu'),\n",
    "    tf.keras.layers.Dropout(0.3),\n",
    "    tf.keras.layers.Dense(1, activation='sigmoid')])"
   ]
  },
  {
   "cell_type": "code",
   "execution_count": 60,
   "id": "ee834d20",
   "metadata": {},
   "outputs": [],
   "source": [
    "#CallBack para detener entrenamiento\n",
    "class MNIST_Callback(tf.keras.callbacks.Callback):\n",
    "    \n",
    "    # método dentro de la clase myCallback, heredada de la clase Callback de keras\n",
    "    def on_epoch_end(self, epoch, logs={}):\n",
    "        if(logs.get('val_accuracy')>0.985):\n",
    "            print(\"\\nSe alcanzó un 98.5% de precisión en la validación! Cancelando Entrenamiento...\")\n",
    "            self.model.stop_training = True\n",
    "        elif(logs.get('accuracy')>0.9):\n",
    "            print(\"\\nSe alcanzó un 90.0% de precisión en el entrenaminto! Cancelando Entrenamiento...\")\n",
    "            self.model.stop_training = True\n",
    "\n",
    "# crea una instancia de clase\n",
    "accu_callback = MNIST_Callback()"
   ]
  },
  {
   "cell_type": "code",
   "execution_count": 61,
   "id": "4ca74681",
   "metadata": {},
   "outputs": [],
   "source": [
    "#Compilador del modelo\n",
    "model.compile(optimizer='adam',\n",
    "              loss='binary_crossentropy',\n",
    "              metrics=['accuracy'])"
   ]
  },
  {
   "cell_type": "code",
   "execution_count": 62,
   "id": "fe3f1926",
   "metadata": {},
   "outputs": [
    {
     "name": "stdout",
     "output_type": "stream",
     "text": [
      "Model: \"sequential_7\"\n",
      "_________________________________________________________________\n",
      " Layer (type)                Output Shape              Param #   \n",
      "=================================================================\n",
      " conv2d_25 (Conv2D)          (None, 236, 446, 64)      640       \n",
      "                                                                 \n",
      " conv2d_26 (Conv2D)          (None, 236, 446, 64)      36928     \n",
      "                                                                 \n",
      " max_pooling2d_18 (MaxPooli  (None, 118, 223, 64)      0         \n",
      " ng2D)                                                           \n",
      "                                                                 \n",
      " conv2d_27 (Conv2D)          (None, 116, 221, 128)     73856     \n",
      "                                                                 \n",
      " conv2d_28 (Conv2D)          (None, 114, 219, 128)     147584    \n",
      "                                                                 \n",
      " max_pooling2d_19 (MaxPooli  (None, 57, 109, 128)      0         \n",
      " ng2D)                                                           \n",
      "                                                                 \n",
      " conv2d_29 (Conv2D)          (None, 55, 107, 256)      295168    \n",
      "                                                                 \n",
      " conv2d_30 (Conv2D)          (None, 53, 105, 256)      590080    \n",
      "                                                                 \n",
      " conv2d_31 (Conv2D)          (None, 51, 103, 256)      590080    \n",
      "                                                                 \n",
      " max_pooling2d_20 (MaxPooli  (None, 25, 51, 256)       0         \n",
      " ng2D)                                                           \n",
      "                                                                 \n",
      " conv2d_32 (Conv2D)          (None, 23, 49, 512)       1180160   \n",
      "                                                                 \n",
      " conv2d_33 (Conv2D)          (None, 21, 47, 512)       2359808   \n",
      "                                                                 \n",
      " conv2d_34 (Conv2D)          (None, 19, 45, 512)       2359808   \n",
      "                                                                 \n",
      " max_pooling2d_21 (MaxPooli  (None, 9, 22, 512)        0         \n",
      " ng2D)                                                           \n",
      "                                                                 \n",
      " conv2d_35 (Conv2D)          (None, 7, 20, 512)        2359808   \n",
      "                                                                 \n",
      " conv2d_36 (Conv2D)          (None, 5, 18, 512)        2359808   \n",
      "                                                                 \n",
      " conv2d_37 (Conv2D)          (None, 3, 16, 512)        2359808   \n",
      "                                                                 \n",
      " max_pooling2d_22 (MaxPooli  (None, 1, 8, 512)         0         \n",
      " ng2D)                                                           \n",
      "                                                                 \n",
      " flatten_7 (Flatten)         (None, 4096)              0         \n",
      "                                                                 \n",
      " dense_19 (Dense)            (None, 4096)              16781312  \n",
      "                                                                 \n",
      " dense_20 (Dense)            (None, 1000)              4097000   \n",
      "                                                                 \n",
      " dropout (Dropout)           (None, 1000)              0         \n",
      "                                                                 \n",
      " dense_21 (Dense)            (None, 1)                 1001      \n",
      "                                                                 \n",
      "=================================================================\n",
      "Total params: 35592849 (135.78 MB)\n",
      "Trainable params: 35592849 (135.78 MB)\n",
      "Non-trainable params: 0 (0.00 Byte)\n",
      "_________________________________________________________________\n"
     ]
    }
   ],
   "source": [
    "model.summary()"
   ]
  },
  {
   "cell_type": "code",
   "execution_count": 63,
   "id": "f9f7f5ce",
   "metadata": {},
   "outputs": [
    {
     "name": "stdout",
     "output_type": "stream",
     "text": [
      "Epoch 1/20\n",
      "169/337 [==============>...............] - ETA: 1:06:04 - loss: 0.6816 - accuracy: 0.5869"
     ]
    },
    {
     "ename": "KeyboardInterrupt",
     "evalue": "",
     "output_type": "error",
     "traceback": [
      "\u001b[1;31m-------------------------------------------------------------------------\u001b[0m",
      "\u001b[1;31mKeyboardInterrupt\u001b[0m                       Traceback (most recent call last)",
      "Cell \u001b[1;32mIn[63], line 1\u001b[0m\n\u001b[1;32m----> 1\u001b[0m history \u001b[38;5;241m=\u001b[39m model\u001b[38;5;241m.\u001b[39mfit(Train_img, y_train, \n\u001b[0;32m      2\u001b[0m                     epochs\u001b[38;5;241m=\u001b[39m\u001b[38;5;241m20\u001b[39m, \n\u001b[0;32m      3\u001b[0m                     validation_data \u001b[38;5;241m=\u001b[39m (Val_img,y_val),\n\u001b[0;32m      4\u001b[0m                     batch_size\u001b[38;5;241m=\u001b[39m\u001b[38;5;241m16\u001b[39m,\n\u001b[0;32m      5\u001b[0m                     callbacks\u001b[38;5;241m=\u001b[39m[accu_callback])\n",
      "File \u001b[1;32m~\\anaconda3\\envs\\Astroproyect\\Lib\\site-packages\\keras\\src\\utils\\traceback_utils.py:65\u001b[0m, in \u001b[0;36mfilter_traceback.<locals>.error_handler\u001b[1;34m(*args, **kwargs)\u001b[0m\n\u001b[0;32m     63\u001b[0m filtered_tb \u001b[38;5;241m=\u001b[39m \u001b[38;5;28;01mNone\u001b[39;00m\n\u001b[0;32m     64\u001b[0m \u001b[38;5;28;01mtry\u001b[39;00m:\n\u001b[1;32m---> 65\u001b[0m     \u001b[38;5;28;01mreturn\u001b[39;00m fn(\u001b[38;5;241m*\u001b[39margs, \u001b[38;5;241m*\u001b[39m\u001b[38;5;241m*\u001b[39mkwargs)\n\u001b[0;32m     66\u001b[0m \u001b[38;5;28;01mexcept\u001b[39;00m \u001b[38;5;167;01mException\u001b[39;00m \u001b[38;5;28;01mas\u001b[39;00m e:\n\u001b[0;32m     67\u001b[0m     filtered_tb \u001b[38;5;241m=\u001b[39m _process_traceback_frames(e\u001b[38;5;241m.\u001b[39m__traceback__)\n",
      "File \u001b[1;32m~\\anaconda3\\envs\\Astroproyect\\Lib\\site-packages\\keras\\src\\engine\\training.py:1783\u001b[0m, in \u001b[0;36mModel.fit\u001b[1;34m(self, x, y, batch_size, epochs, verbose, callbacks, validation_split, validation_data, shuffle, class_weight, sample_weight, initial_epoch, steps_per_epoch, validation_steps, validation_batch_size, validation_freq, max_queue_size, workers, use_multiprocessing)\u001b[0m\n\u001b[0;32m   1775\u001b[0m \u001b[38;5;28;01mwith\u001b[39;00m tf\u001b[38;5;241m.\u001b[39mprofiler\u001b[38;5;241m.\u001b[39mexperimental\u001b[38;5;241m.\u001b[39mTrace(\n\u001b[0;32m   1776\u001b[0m     \u001b[38;5;124m\"\u001b[39m\u001b[38;5;124mtrain\u001b[39m\u001b[38;5;124m\"\u001b[39m,\n\u001b[0;32m   1777\u001b[0m     epoch_num\u001b[38;5;241m=\u001b[39mepoch,\n\u001b[1;32m   (...)\u001b[0m\n\u001b[0;32m   1780\u001b[0m     _r\u001b[38;5;241m=\u001b[39m\u001b[38;5;241m1\u001b[39m,\n\u001b[0;32m   1781\u001b[0m ):\n\u001b[0;32m   1782\u001b[0m     callbacks\u001b[38;5;241m.\u001b[39mon_train_batch_begin(step)\n\u001b[1;32m-> 1783\u001b[0m     tmp_logs \u001b[38;5;241m=\u001b[39m \u001b[38;5;28mself\u001b[39m\u001b[38;5;241m.\u001b[39mtrain_function(iterator)\n\u001b[0;32m   1784\u001b[0m     \u001b[38;5;28;01mif\u001b[39;00m data_handler\u001b[38;5;241m.\u001b[39mshould_sync:\n\u001b[0;32m   1785\u001b[0m         context\u001b[38;5;241m.\u001b[39masync_wait()\n",
      "File \u001b[1;32m~\\anaconda3\\envs\\Astroproyect\\Lib\\site-packages\\tensorflow\\python\\util\\traceback_utils.py:150\u001b[0m, in \u001b[0;36mfilter_traceback.<locals>.error_handler\u001b[1;34m(*args, **kwargs)\u001b[0m\n\u001b[0;32m    148\u001b[0m filtered_tb \u001b[38;5;241m=\u001b[39m \u001b[38;5;28;01mNone\u001b[39;00m\n\u001b[0;32m    149\u001b[0m \u001b[38;5;28;01mtry\u001b[39;00m:\n\u001b[1;32m--> 150\u001b[0m   \u001b[38;5;28;01mreturn\u001b[39;00m fn(\u001b[38;5;241m*\u001b[39margs, \u001b[38;5;241m*\u001b[39m\u001b[38;5;241m*\u001b[39mkwargs)\n\u001b[0;32m    151\u001b[0m \u001b[38;5;28;01mexcept\u001b[39;00m \u001b[38;5;167;01mException\u001b[39;00m \u001b[38;5;28;01mas\u001b[39;00m e:\n\u001b[0;32m    152\u001b[0m   filtered_tb \u001b[38;5;241m=\u001b[39m _process_traceback_frames(e\u001b[38;5;241m.\u001b[39m__traceback__)\n",
      "File \u001b[1;32m~\\anaconda3\\envs\\Astroproyect\\Lib\\site-packages\\tensorflow\\python\\eager\\polymorphic_function\\polymorphic_function.py:831\u001b[0m, in \u001b[0;36mFunction.__call__\u001b[1;34m(self, *args, **kwds)\u001b[0m\n\u001b[0;32m    828\u001b[0m compiler \u001b[38;5;241m=\u001b[39m \u001b[38;5;124m\"\u001b[39m\u001b[38;5;124mxla\u001b[39m\u001b[38;5;124m\"\u001b[39m \u001b[38;5;28;01mif\u001b[39;00m \u001b[38;5;28mself\u001b[39m\u001b[38;5;241m.\u001b[39m_jit_compile \u001b[38;5;28;01melse\u001b[39;00m \u001b[38;5;124m\"\u001b[39m\u001b[38;5;124mnonXla\u001b[39m\u001b[38;5;124m\"\u001b[39m\n\u001b[0;32m    830\u001b[0m \u001b[38;5;28;01mwith\u001b[39;00m OptionalXlaContext(\u001b[38;5;28mself\u001b[39m\u001b[38;5;241m.\u001b[39m_jit_compile):\n\u001b[1;32m--> 831\u001b[0m   result \u001b[38;5;241m=\u001b[39m \u001b[38;5;28mself\u001b[39m\u001b[38;5;241m.\u001b[39m_call(\u001b[38;5;241m*\u001b[39margs, \u001b[38;5;241m*\u001b[39m\u001b[38;5;241m*\u001b[39mkwds)\n\u001b[0;32m    833\u001b[0m new_tracing_count \u001b[38;5;241m=\u001b[39m \u001b[38;5;28mself\u001b[39m\u001b[38;5;241m.\u001b[39mexperimental_get_tracing_count()\n\u001b[0;32m    834\u001b[0m without_tracing \u001b[38;5;241m=\u001b[39m (tracing_count \u001b[38;5;241m==\u001b[39m new_tracing_count)\n",
      "File \u001b[1;32m~\\anaconda3\\envs\\Astroproyect\\Lib\\site-packages\\tensorflow\\python\\eager\\polymorphic_function\\polymorphic_function.py:867\u001b[0m, in \u001b[0;36mFunction._call\u001b[1;34m(self, *args, **kwds)\u001b[0m\n\u001b[0;32m    864\u001b[0m   \u001b[38;5;28mself\u001b[39m\u001b[38;5;241m.\u001b[39m_lock\u001b[38;5;241m.\u001b[39mrelease()\n\u001b[0;32m    865\u001b[0m   \u001b[38;5;66;03m# In this case we have created variables on the first call, so we run the\u001b[39;00m\n\u001b[0;32m    866\u001b[0m   \u001b[38;5;66;03m# defunned version which is guaranteed to never create variables.\u001b[39;00m\n\u001b[1;32m--> 867\u001b[0m   \u001b[38;5;28;01mreturn\u001b[39;00m tracing_compilation\u001b[38;5;241m.\u001b[39mcall_function(\n\u001b[0;32m    868\u001b[0m       args, kwds, \u001b[38;5;28mself\u001b[39m\u001b[38;5;241m.\u001b[39m_no_variable_creation_config\n\u001b[0;32m    869\u001b[0m   )\n\u001b[0;32m    870\u001b[0m \u001b[38;5;28;01melif\u001b[39;00m \u001b[38;5;28mself\u001b[39m\u001b[38;5;241m.\u001b[39m_variable_creation_config \u001b[38;5;129;01mis\u001b[39;00m \u001b[38;5;129;01mnot\u001b[39;00m \u001b[38;5;28;01mNone\u001b[39;00m:\n\u001b[0;32m    871\u001b[0m   \u001b[38;5;66;03m# Release the lock early so that multiple threads can perform the call\u001b[39;00m\n\u001b[0;32m    872\u001b[0m   \u001b[38;5;66;03m# in parallel.\u001b[39;00m\n\u001b[0;32m    873\u001b[0m   \u001b[38;5;28mself\u001b[39m\u001b[38;5;241m.\u001b[39m_lock\u001b[38;5;241m.\u001b[39mrelease()\n",
      "File \u001b[1;32m~\\anaconda3\\envs\\Astroproyect\\Lib\\site-packages\\tensorflow\\python\\eager\\polymorphic_function\\tracing_compilation.py:139\u001b[0m, in \u001b[0;36mcall_function\u001b[1;34m(args, kwargs, tracing_options)\u001b[0m\n\u001b[0;32m    137\u001b[0m bound_args \u001b[38;5;241m=\u001b[39m function\u001b[38;5;241m.\u001b[39mfunction_type\u001b[38;5;241m.\u001b[39mbind(\u001b[38;5;241m*\u001b[39margs, \u001b[38;5;241m*\u001b[39m\u001b[38;5;241m*\u001b[39mkwargs)\n\u001b[0;32m    138\u001b[0m flat_inputs \u001b[38;5;241m=\u001b[39m function\u001b[38;5;241m.\u001b[39mfunction_type\u001b[38;5;241m.\u001b[39munpack_inputs(bound_args)\n\u001b[1;32m--> 139\u001b[0m \u001b[38;5;28;01mreturn\u001b[39;00m function\u001b[38;5;241m.\u001b[39m_call_flat(  \u001b[38;5;66;03m# pylint: disable=protected-access\u001b[39;00m\n\u001b[0;32m    140\u001b[0m     flat_inputs, captured_inputs\u001b[38;5;241m=\u001b[39mfunction\u001b[38;5;241m.\u001b[39mcaptured_inputs\n\u001b[0;32m    141\u001b[0m )\n",
      "File \u001b[1;32m~\\anaconda3\\envs\\Astroproyect\\Lib\\site-packages\\tensorflow\\python\\eager\\polymorphic_function\\concrete_function.py:1264\u001b[0m, in \u001b[0;36mConcreteFunction._call_flat\u001b[1;34m(self, tensor_inputs, captured_inputs)\u001b[0m\n\u001b[0;32m   1260\u001b[0m possible_gradient_type \u001b[38;5;241m=\u001b[39m gradients_util\u001b[38;5;241m.\u001b[39mPossibleTapeGradientTypes(args)\n\u001b[0;32m   1261\u001b[0m \u001b[38;5;28;01mif\u001b[39;00m (possible_gradient_type \u001b[38;5;241m==\u001b[39m gradients_util\u001b[38;5;241m.\u001b[39mPOSSIBLE_GRADIENT_TYPES_NONE\n\u001b[0;32m   1262\u001b[0m     \u001b[38;5;129;01mand\u001b[39;00m executing_eagerly):\n\u001b[0;32m   1263\u001b[0m   \u001b[38;5;66;03m# No tape is watching; skip to running the function.\u001b[39;00m\n\u001b[1;32m-> 1264\u001b[0m   \u001b[38;5;28;01mreturn\u001b[39;00m \u001b[38;5;28mself\u001b[39m\u001b[38;5;241m.\u001b[39m_inference_function\u001b[38;5;241m.\u001b[39mflat_call(args)\n\u001b[0;32m   1265\u001b[0m forward_backward \u001b[38;5;241m=\u001b[39m \u001b[38;5;28mself\u001b[39m\u001b[38;5;241m.\u001b[39m_select_forward_and_backward_functions(\n\u001b[0;32m   1266\u001b[0m     args,\n\u001b[0;32m   1267\u001b[0m     possible_gradient_type,\n\u001b[0;32m   1268\u001b[0m     executing_eagerly)\n\u001b[0;32m   1269\u001b[0m forward_function, args_with_tangents \u001b[38;5;241m=\u001b[39m forward_backward\u001b[38;5;241m.\u001b[39mforward()\n",
      "File \u001b[1;32m~\\anaconda3\\envs\\Astroproyect\\Lib\\site-packages\\tensorflow\\python\\eager\\polymorphic_function\\atomic_function.py:217\u001b[0m, in \u001b[0;36mAtomicFunction.flat_call\u001b[1;34m(self, args)\u001b[0m\n\u001b[0;32m    215\u001b[0m \u001b[38;5;28;01mdef\u001b[39;00m \u001b[38;5;21mflat_call\u001b[39m(\u001b[38;5;28mself\u001b[39m, args: Sequence[core\u001b[38;5;241m.\u001b[39mTensor]) \u001b[38;5;241m-\u001b[39m\u001b[38;5;241m>\u001b[39m Any:\n\u001b[0;32m    216\u001b[0m \u001b[38;5;250m  \u001b[39m\u001b[38;5;124;03m\"\"\"Calls with tensor inputs and returns the structured output.\"\"\"\u001b[39;00m\n\u001b[1;32m--> 217\u001b[0m   flat_outputs \u001b[38;5;241m=\u001b[39m \u001b[38;5;28mself\u001b[39m(\u001b[38;5;241m*\u001b[39margs)\n\u001b[0;32m    218\u001b[0m   \u001b[38;5;28;01mreturn\u001b[39;00m \u001b[38;5;28mself\u001b[39m\u001b[38;5;241m.\u001b[39mfunction_type\u001b[38;5;241m.\u001b[39mpack_output(flat_outputs)\n",
      "File \u001b[1;32m~\\anaconda3\\envs\\Astroproyect\\Lib\\site-packages\\tensorflow\\python\\eager\\polymorphic_function\\atomic_function.py:252\u001b[0m, in \u001b[0;36mAtomicFunction.__call__\u001b[1;34m(self, *args)\u001b[0m\n\u001b[0;32m    250\u001b[0m \u001b[38;5;28;01mwith\u001b[39;00m record\u001b[38;5;241m.\u001b[39mstop_recording():\n\u001b[0;32m    251\u001b[0m   \u001b[38;5;28;01mif\u001b[39;00m \u001b[38;5;28mself\u001b[39m\u001b[38;5;241m.\u001b[39m_bound_context\u001b[38;5;241m.\u001b[39mexecuting_eagerly():\n\u001b[1;32m--> 252\u001b[0m     outputs \u001b[38;5;241m=\u001b[39m \u001b[38;5;28mself\u001b[39m\u001b[38;5;241m.\u001b[39m_bound_context\u001b[38;5;241m.\u001b[39mcall_function(\n\u001b[0;32m    253\u001b[0m         \u001b[38;5;28mself\u001b[39m\u001b[38;5;241m.\u001b[39mname,\n\u001b[0;32m    254\u001b[0m         \u001b[38;5;28mlist\u001b[39m(args),\n\u001b[0;32m    255\u001b[0m         \u001b[38;5;28mlen\u001b[39m(\u001b[38;5;28mself\u001b[39m\u001b[38;5;241m.\u001b[39mfunction_type\u001b[38;5;241m.\u001b[39mflat_outputs),\n\u001b[0;32m    256\u001b[0m     )\n\u001b[0;32m    257\u001b[0m   \u001b[38;5;28;01melse\u001b[39;00m:\n\u001b[0;32m    258\u001b[0m     outputs \u001b[38;5;241m=\u001b[39m make_call_op_in_graph(\n\u001b[0;32m    259\u001b[0m         \u001b[38;5;28mself\u001b[39m,\n\u001b[0;32m    260\u001b[0m         \u001b[38;5;28mlist\u001b[39m(args),\n\u001b[0;32m    261\u001b[0m         \u001b[38;5;28mself\u001b[39m\u001b[38;5;241m.\u001b[39m_bound_context\u001b[38;5;241m.\u001b[39mfunction_call_options\u001b[38;5;241m.\u001b[39mas_attrs(),\n\u001b[0;32m    262\u001b[0m     )\n",
      "File \u001b[1;32m~\\anaconda3\\envs\\Astroproyect\\Lib\\site-packages\\tensorflow\\python\\eager\\context.py:1479\u001b[0m, in \u001b[0;36mContext.call_function\u001b[1;34m(self, name, tensor_inputs, num_outputs)\u001b[0m\n\u001b[0;32m   1477\u001b[0m cancellation_context \u001b[38;5;241m=\u001b[39m cancellation\u001b[38;5;241m.\u001b[39mcontext()\n\u001b[0;32m   1478\u001b[0m \u001b[38;5;28;01mif\u001b[39;00m cancellation_context \u001b[38;5;129;01mis\u001b[39;00m \u001b[38;5;28;01mNone\u001b[39;00m:\n\u001b[1;32m-> 1479\u001b[0m   outputs \u001b[38;5;241m=\u001b[39m execute\u001b[38;5;241m.\u001b[39mexecute(\n\u001b[0;32m   1480\u001b[0m       name\u001b[38;5;241m.\u001b[39mdecode(\u001b[38;5;124m\"\u001b[39m\u001b[38;5;124mutf-8\u001b[39m\u001b[38;5;124m\"\u001b[39m),\n\u001b[0;32m   1481\u001b[0m       num_outputs\u001b[38;5;241m=\u001b[39mnum_outputs,\n\u001b[0;32m   1482\u001b[0m       inputs\u001b[38;5;241m=\u001b[39mtensor_inputs,\n\u001b[0;32m   1483\u001b[0m       attrs\u001b[38;5;241m=\u001b[39mattrs,\n\u001b[0;32m   1484\u001b[0m       ctx\u001b[38;5;241m=\u001b[39m\u001b[38;5;28mself\u001b[39m,\n\u001b[0;32m   1485\u001b[0m   )\n\u001b[0;32m   1486\u001b[0m \u001b[38;5;28;01melse\u001b[39;00m:\n\u001b[0;32m   1487\u001b[0m   outputs \u001b[38;5;241m=\u001b[39m execute\u001b[38;5;241m.\u001b[39mexecute_with_cancellation(\n\u001b[0;32m   1488\u001b[0m       name\u001b[38;5;241m.\u001b[39mdecode(\u001b[38;5;124m\"\u001b[39m\u001b[38;5;124mutf-8\u001b[39m\u001b[38;5;124m\"\u001b[39m),\n\u001b[0;32m   1489\u001b[0m       num_outputs\u001b[38;5;241m=\u001b[39mnum_outputs,\n\u001b[1;32m   (...)\u001b[0m\n\u001b[0;32m   1493\u001b[0m       cancellation_manager\u001b[38;5;241m=\u001b[39mcancellation_context,\n\u001b[0;32m   1494\u001b[0m   )\n",
      "File \u001b[1;32m~\\anaconda3\\envs\\Astroproyect\\Lib\\site-packages\\tensorflow\\python\\eager\\execute.py:60\u001b[0m, in \u001b[0;36mquick_execute\u001b[1;34m(op_name, num_outputs, inputs, attrs, ctx, name)\u001b[0m\n\u001b[0;32m     53\u001b[0m   \u001b[38;5;66;03m# Convert any objects of type core_types.Tensor to Tensor.\u001b[39;00m\n\u001b[0;32m     54\u001b[0m   inputs \u001b[38;5;241m=\u001b[39m [\n\u001b[0;32m     55\u001b[0m       tensor_conversion_registry\u001b[38;5;241m.\u001b[39mconvert(t)\n\u001b[0;32m     56\u001b[0m       \u001b[38;5;28;01mif\u001b[39;00m \u001b[38;5;28misinstance\u001b[39m(t, core_types\u001b[38;5;241m.\u001b[39mTensor)\n\u001b[0;32m     57\u001b[0m       \u001b[38;5;28;01melse\u001b[39;00m t\n\u001b[0;32m     58\u001b[0m       \u001b[38;5;28;01mfor\u001b[39;00m t \u001b[38;5;129;01min\u001b[39;00m inputs\n\u001b[0;32m     59\u001b[0m   ]\n\u001b[1;32m---> 60\u001b[0m   tensors \u001b[38;5;241m=\u001b[39m pywrap_tfe\u001b[38;5;241m.\u001b[39mTFE_Py_Execute(ctx\u001b[38;5;241m.\u001b[39m_handle, device_name, op_name,\n\u001b[0;32m     61\u001b[0m                                       inputs, attrs, num_outputs)\n\u001b[0;32m     62\u001b[0m \u001b[38;5;28;01mexcept\u001b[39;00m core\u001b[38;5;241m.\u001b[39m_NotOkStatusException \u001b[38;5;28;01mas\u001b[39;00m e:\n\u001b[0;32m     63\u001b[0m   \u001b[38;5;28;01mif\u001b[39;00m name \u001b[38;5;129;01mis\u001b[39;00m \u001b[38;5;129;01mnot\u001b[39;00m \u001b[38;5;28;01mNone\u001b[39;00m:\n",
      "\u001b[1;31mKeyboardInterrupt\u001b[0m: "
     ]
    }
   ],
   "source": [
    "history = model.fit(Train_img, y_train, \n",
    "                    epochs=20, \n",
    "                    validation_data = (Val_img,y_val),\n",
    "                    batch_size=16,\n",
    "                    callbacks=[accu_callback])"
   ]
  },
  {
   "cell_type": "code",
   "execution_count": null,
   "id": "905d75c0",
   "metadata": {},
   "outputs": [],
   "source": [
    "model.save(url+'Conv.h5')"
   ]
  }
 ],
 "metadata": {
  "kernelspec": {
   "display_name": "Python 3 (ipykernel)",
   "language": "python",
   "name": "python3"
  },
  "language_info": {
   "codemirror_mode": {
    "name": "ipython",
    "version": 3
   },
   "file_extension": ".py",
   "mimetype": "text/x-python",
   "name": "python",
   "nbconvert_exporter": "python",
   "pygments_lexer": "ipython3",
   "version": "3.11.5"
  }
 },
 "nbformat": 4,
 "nbformat_minor": 5
}

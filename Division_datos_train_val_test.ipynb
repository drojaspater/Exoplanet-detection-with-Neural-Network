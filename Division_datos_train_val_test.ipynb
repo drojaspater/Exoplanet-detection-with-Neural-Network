{
 "cells": [
  {
   "cell_type": "code",
   "execution_count": 8,
   "id": "7755faf0-b63f-46fe-aa69-0eea221c8219",
   "metadata": {},
   "outputs": [],
   "source": [
    "import os\n",
    "import shutil\n",
    "import random\n",
    "import pandas as pd"
   ]
  },
  {
   "cell_type": "code",
   "execution_count": 9,
   "id": "3cf57d5d-5bfe-48b8-b604-225272576eb2",
   "metadata": {},
   "outputs": [
    {
     "data": {
      "text/html": [
       "<div>\n",
       "<style scoped>\n",
       "    .dataframe tbody tr th:only-of-type {\n",
       "        vertical-align: middle;\n",
       "    }\n",
       "\n",
       "    .dataframe tbody tr th {\n",
       "        vertical-align: top;\n",
       "    }\n",
       "\n",
       "    .dataframe thead th {\n",
       "        text-align: right;\n",
       "    }\n",
       "</style>\n",
       "<table border=\"1\" class=\"dataframe\">\n",
       "  <thead>\n",
       "    <tr style=\"text-align: right;\">\n",
       "      <th></th>\n",
       "      <th>Kepler_ID</th>\n",
       "      <th>Metalicidad</th>\n",
       "      <th>Clasificacion</th>\n",
       "      <th>incert_clas</th>\n",
       "    </tr>\n",
       "  </thead>\n",
       "  <tbody>\n",
       "    <tr>\n",
       "      <th>0</th>\n",
       "      <td>10797460</td>\n",
       "      <td>0.136</td>\n",
       "      <td>CANDIDATE</td>\n",
       "      <td>1.000</td>\n",
       "    </tr>\n",
       "    <tr>\n",
       "      <th>1</th>\n",
       "      <td>10811496</td>\n",
       "      <td>-0.127</td>\n",
       "      <td>FALSE POSITIVE</td>\n",
       "      <td>0.000</td>\n",
       "    </tr>\n",
       "    <tr>\n",
       "      <th>2</th>\n",
       "      <td>10848459</td>\n",
       "      <td>-0.522</td>\n",
       "      <td>FALSE POSITIVE</td>\n",
       "      <td>0.000</td>\n",
       "    </tr>\n",
       "    <tr>\n",
       "      <th>3</th>\n",
       "      <td>10854555</td>\n",
       "      <td>0.081</td>\n",
       "      <td>CANDIDATE</td>\n",
       "      <td>1.000</td>\n",
       "    </tr>\n",
       "    <tr>\n",
       "      <th>4</th>\n",
       "      <td>10872983</td>\n",
       "      <td>-0.067</td>\n",
       "      <td>CANDIDATE</td>\n",
       "      <td>0.992</td>\n",
       "    </tr>\n",
       "    <tr>\n",
       "      <th>...</th>\n",
       "      <td>...</td>\n",
       "      <td>...</td>\n",
       "      <td>...</td>\n",
       "      <td>...</td>\n",
       "    </tr>\n",
       "    <tr>\n",
       "      <th>7677</th>\n",
       "      <td>10128825</td>\n",
       "      <td>-0.046</td>\n",
       "      <td>CANDIDATE</td>\n",
       "      <td>0.497</td>\n",
       "    </tr>\n",
       "    <tr>\n",
       "      <th>7678</th>\n",
       "      <td>10147276</td>\n",
       "      <td>-0.038</td>\n",
       "      <td>FALSE POSITIVE</td>\n",
       "      <td>0.021</td>\n",
       "    </tr>\n",
       "    <tr>\n",
       "      <th>7679</th>\n",
       "      <td>10156110</td>\n",
       "      <td>0.082</td>\n",
       "      <td>FALSE POSITIVE</td>\n",
       "      <td>0.000</td>\n",
       "    </tr>\n",
       "    <tr>\n",
       "      <th>7680</th>\n",
       "      <td>8460634</td>\n",
       "      <td>-0.556</td>\n",
       "      <td>FALSE POSITIVE</td>\n",
       "      <td>0.000</td>\n",
       "    </tr>\n",
       "    <tr>\n",
       "      <th>7681</th>\n",
       "      <td>8308347</td>\n",
       "      <td>-0.598</td>\n",
       "      <td>FALSE POSITIVE</td>\n",
       "      <td>0.000</td>\n",
       "    </tr>\n",
       "  </tbody>\n",
       "</table>\n",
       "<p>7682 rows × 4 columns</p>\n",
       "</div>"
      ],
      "text/plain": [
       "      Kepler_ID  Metalicidad   Clasificacion  incert_clas\n",
       "0      10797460        0.136       CANDIDATE        1.000\n",
       "1      10811496       -0.127  FALSE POSITIVE        0.000\n",
       "2      10848459       -0.522  FALSE POSITIVE        0.000\n",
       "3      10854555        0.081       CANDIDATE        1.000\n",
       "4      10872983       -0.067       CANDIDATE        0.992\n",
       "...         ...          ...             ...          ...\n",
       "7677   10128825       -0.046       CANDIDATE        0.497\n",
       "7678   10147276       -0.038  FALSE POSITIVE        0.021\n",
       "7679   10156110        0.082  FALSE POSITIVE        0.000\n",
       "7680    8460634       -0.556  FALSE POSITIVE        0.000\n",
       "7681    8308347       -0.598  FALSE POSITIVE        0.000\n",
       "\n",
       "[7682 rows x 4 columns]"
      ]
     },
     "execution_count": 9,
     "metadata": {},
     "output_type": "execute_result"
    }
   ],
   "source": [
    "Clasif = pd.read_csv('Carac_Stars.csv')\n",
    "Clasif"
   ]
  },
  {
   "cell_type": "code",
   "execution_count": 33,
   "id": "ccaabcaa-71ff-49b6-8266-c8d631a6b8d8",
   "metadata": {},
   "outputs": [
    {
     "data": {
      "text/plain": [
       "'3845    CANDIDATE\\nName: Clasificacion, dtype: object'"
      ]
     },
     "execution_count": 33,
     "metadata": {},
     "output_type": "execute_result"
    }
   ],
   "source": [
    "Clasif[Clasif['Kepler_ID']==10000162]['Clasificacion']"
   ]
  },
  {
   "cell_type": "code",
   "execution_count": 43,
   "id": "d0f625d2-80e7-4b6d-bae4-10e5b96c6e5a",
   "metadata": {},
   "outputs": [],
   "source": [
    "def mover_archivos(archivos:list, vieja_carpeta:str, nueva_carpeta:str):\n",
    "    \"\"\"Recibe una lista de archivos, la carpeta actual y el lugar a donde se moveran\"\"\"\n",
    "    for archivo in archivos:\n",
    "        shutil.move(vieja_carpeta+'/'+archivo, nueva_carpeta+'/'+archivo)\n",
    "\n",
    "def segmentacion_estrellas(base_dir:str, df_clasif, columna_clasif:str, columna_ID:str):\n",
    "    \"\"\"Se separan los datos en dos carpetas ubicadas en la carpeta orginal, \n",
    "    una carpeta con los candidatos a tener exoplanetas y otra a los que no \n",
    "    poseen\"\"\"\n",
    "    # Listar todos los archivos en la carpeta base\n",
    "    archivos = [f for f in os.listdir(base_dir) if f.endswith('.csv') and os.path.isfile(os.path.join(base_dir, f))]\n",
    "    archivos_1 = []\n",
    "    archivos_0 = []\n",
    "    for archivo in archivos:\n",
    "        print(archivo)\n",
    "        print(archivo[3:-4])\n",
    "        if df_clasif[df_clasif[columna_ID]==int(archivo[3:-4])][columna_clasif].iloc[0]=='CANDIDATE':\n",
    "            archivos_1.append(archivo)\n",
    "        else:\n",
    "            archivos_0.append(archivo)\n",
    "    mover_archivos(archivos_1, base_dir, base_dir+'/1')\n",
    "    mover_archivos(archivos_0, base_dir, base_dir+'/0')\n",
    "    \n",
    "def modeling_div(base_dir:str, proporciones, new_carpeta:str):\n",
    "    # Listar todos los archivos en la carpeta base\n",
    "    archivos = [f for f in os.listdir(base_dir)]\n",
    "    random.shuffle(archivos)  # Mezclar los archivos aleatoriamente\n",
    "    \n",
    "    # Calcular cantidades de archivos para cada subcarpeta\n",
    "    total_archivos = len(archivos)\n",
    "    num_train = int(total_archivos * proporciones['train'])\n",
    "    num_val = int(total_archivos * proporciones['val'])\n",
    "    \n",
    "    # Dividir los archivos en las subcarpetas correspondientes\n",
    "    archivos_train = archivos[:num_train]\n",
    "    archivos_val = archivos[num_train:num_train + num_val]\n",
    "    archivos_test = archivos[num_train + num_val:]\n",
    "    \n",
    "    mover_archivos(archivos_train, base_dir, new_carpeta['train'])\n",
    "    mover_archivos(archivos_val, base_dir, new_carpeta['val'])\n",
    "    mover_archivos(archivos_test, base_dir, new_carpeta['test'])"
   ]
  },
  {
   "cell_type": "code",
   "execution_count": 46,
   "id": "4ec1de3e-4254-4d06-be49-1a8fff5f6843",
   "metadata": {},
   "outputs": [],
   "source": [
    "old_dir = '../Curvas_de_luz_God'\n",
    "\n",
    "proporciones = {'train': 0.7, \n",
    "                'val': 0.2, \n",
    "                'test': 0.1}\n",
    "\n",
    "new_carpeta_0 = {'train': '../Datos_Exoplanetas/0/train', \n",
    "               'val':'../Datos_Exoplanetas/0/Validation', \n",
    "               'test':'../Datos_Exoplanetas/0/test'}\n",
    "\n",
    "new_carpeta_1 = {'train': '../Datos_Exoplanetas/1/train', \n",
    "               'val':'../Datos_Exoplanetas/1/Validation', \n",
    "               'test':'../Datos_Exoplanetas/1/test'}"
   ]
  },
  {
   "cell_type": "code",
   "execution_count": null,
   "id": "174dd3fd-02b0-428e-a4e1-ef7e6dbb3cca",
   "metadata": {},
   "outputs": [],
   "source": [
    "segmentacion_estrellas(old_dir, Clasif, 'Clasificacion', 'Kepler_ID')"
   ]
  },
  {
   "cell_type": "code",
   "execution_count": 47,
   "id": "090f59f4-0300-4d3e-a471-06856087c339",
   "metadata": {},
   "outputs": [],
   "source": [
    "modeling_div(old_dir+'/1', proporciones, new_carpeta_1)"
   ]
  },
  {
   "cell_type": "code",
   "execution_count": 48,
   "id": "26ddcd9c-628e-4d5d-87b9-997f5f3aeb73",
   "metadata": {},
   "outputs": [],
   "source": [
    "modeling_div(old_dir+'/0', proporciones, new_carpeta_0)"
   ]
  }
 ],
 "metadata": {
  "kernelspec": {
   "display_name": "Python 3 (ipykernel)",
   "language": "python",
   "name": "python3"
  },
  "language_info": {
   "codemirror_mode": {
    "name": "ipython",
    "version": 3
   },
   "file_extension": ".py",
   "mimetype": "text/x-python",
   "name": "python",
   "nbconvert_exporter": "python",
   "pygments_lexer": "ipython3",
   "version": "3.12.4"
  }
 },
 "nbformat": 4,
 "nbformat_minor": 5
}

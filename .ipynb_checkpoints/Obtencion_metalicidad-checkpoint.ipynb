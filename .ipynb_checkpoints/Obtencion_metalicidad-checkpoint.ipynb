{
 "cells": [
  {
   "cell_type": "code",
   "execution_count": 8,
   "id": "66eb0ec3",
   "metadata": {},
   "outputs": [],
   "source": [
    "from astroquery.nasa_exoplanet_archive import NasaExoplanetArchive\n",
    "import pandas as pd"
   ]
  },
  {
   "cell_type": "code",
   "execution_count": null,
   "id": "59978796",
   "metadata": {},
   "outputs": [],
   "source": []
  },
  {
   "cell_type": "code",
   "execution_count": null,
   "id": "a8e35860",
   "metadata": {},
   "outputs": [],
   "source": []
  },
  {
   "cell_type": "code",
   "execution_count": 9,
   "id": "0b0d242c",
   "metadata": {},
   "outputs": [
    {
     "ename": "AttributeError",
     "evalue": "'NasaExoplanetArchiveClass' object has no attribute 'get_confirmed_planets_table'",
     "output_type": "error",
     "traceback": [
      "\u001b[0;31m---------------------------------------------------------------------------\u001b[0m",
      "\u001b[0;31mAttributeError\u001b[0m                            Traceback (most recent call last)",
      "\u001b[0;32m/tmp/ipykernel_9413/2145392313.py\u001b[0m in \u001b[0;36m<module>\u001b[0;34m\u001b[0m\n\u001b[1;32m      1\u001b[0m \u001b[0;31m# Obtener un table con datos de exoplanetas y sus estrellas anfitrionas\u001b[0m\u001b[0;34m\u001b[0m\u001b[0;34m\u001b[0m\u001b[0m\n\u001b[0;32m----> 2\u001b[0;31m \u001b[0mexoplanet_table\u001b[0m \u001b[0;34m=\u001b[0m \u001b[0mNasaExoplanetArchive\u001b[0m\u001b[0;34m.\u001b[0m\u001b[0mget_confirmed_planets_table\u001b[0m\u001b[0;34m(\u001b[0m\u001b[0;34m)\u001b[0m\u001b[0;34m\u001b[0m\u001b[0;34m\u001b[0m\u001b[0m\n\u001b[0m\u001b[1;32m      3\u001b[0m \u001b[0;34m\u001b[0m\u001b[0m\n\u001b[1;32m      4\u001b[0m \u001b[0;31m# Filtrar la tabla para incluir solo estrellas observadas por Kepler\u001b[0m\u001b[0;34m\u001b[0m\u001b[0;34m\u001b[0m\u001b[0m\n\u001b[1;32m      5\u001b[0m \u001b[0mkepler_stars\u001b[0m \u001b[0;34m=\u001b[0m \u001b[0mexoplanet_table\u001b[0m\u001b[0;34m[\u001b[0m\u001b[0mexoplanet_table\u001b[0m\u001b[0;34m[\u001b[0m\u001b[0;34m'pl_kepflag'\u001b[0m\u001b[0;34m]\u001b[0m \u001b[0;34m==\u001b[0m \u001b[0;36m1\u001b[0m\u001b[0;34m]\u001b[0m\u001b[0;34m\u001b[0m\u001b[0;34m\u001b[0m\u001b[0m\n",
      "\u001b[0;31mAttributeError\u001b[0m: 'NasaExoplanetArchiveClass' object has no attribute 'get_confirmed_planets_table'"
     ]
    }
   ],
   "source": [
    "# Obtener un table con datos de exoplanetas y sus estrellas anfitrionas\n",
    "exoplanet_table = NasaExoplanetArchive.get_confirmed_planets_table()\n",
    "\n",
    "# Filtrar la tabla para incluir solo estrellas observadas por Kepler\n",
    "kepler_stars = exoplanet_table[exoplanet_table['pl_kepflag'] == 1]\n",
    "\n",
    "# Mostrar los identificadores de las estrellas y sus metalicidades\n",
    "#for row in kepler_stars:\n",
    "#    print(f\"Star: {row['pl_hostname']}, Metallicity: {row['st_met']}\")"
   ]
  }
 ],
 "metadata": {
  "kernelspec": {
   "display_name": "Python 3 (ipykernel)",
   "language": "python",
   "name": "python3"
  },
  "language_info": {
   "codemirror_mode": {
    "name": "ipython",
    "version": 3
   },
   "file_extension": ".py",
   "mimetype": "text/x-python",
   "name": "python",
   "nbconvert_exporter": "python",
   "pygments_lexer": "ipython3",
   "version": "3.9.13"
  }
 },
 "nbformat": 4,
 "nbformat_minor": 5
}
